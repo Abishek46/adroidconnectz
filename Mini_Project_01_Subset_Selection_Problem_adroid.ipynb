{
  "nbformat": 4,
  "nbformat_minor": 0,
  "metadata": {
    "colab": {
      "provenance": [],
      "authorship_tag": "ABX9TyPblZ6qFBWkXHkx86qM5xQw",
      "include_colab_link": true
    },
    "kernelspec": {
      "name": "python3",
      "display_name": "Python 3"
    },
    "language_info": {
      "name": "python"
    }
  },
  "cells": [
    {
      "cell_type": "markdown",
      "metadata": {
        "id": "view-in-github",
        "colab_type": "text"
      },
      "source": [
        "<a href=\"https://colab.research.google.com/github/Abishek46/adroidconnectz-day-2/blob/main/Mini_Project_01_Subset_Selection_Problem_adroid.ipynb\" target=\"_parent\"><img src=\"https://colab.research.google.com/assets/colab-badge.svg\" alt=\"Open In Colab\"/></a>"
      ]
    },
    {
      "cell_type": "markdown",
      "source": [
        "Subset Selection Problem\n",
        "1. Problem Statement:\n",
        "Find all the subsets from a set of numbers whose sum is zero.\n",
        "\n",
        "  Constraint: Subset size must be 5\n",
        "\n",
        "  Set={-12, -3, -6, 7, 2, -2, 6, 3, 9, -7, -5, -8, 1, 11, -9, -4}\n"
      ],
      "metadata": {
        "id": "xaEyi5dfU1mX"
      }
    },
    {
      "cell_type": "code",
      "execution_count": null,
      "metadata": {
        "colab": {
          "base_uri": "https://localhost:8080/"
        },
        "id": "DMuq1O7JTtSS",
        "outputId": "91da40b8-1a0e-447a-8312-17d045da57b3"
      },
      "outputs": [
        {
          "output_type": "stream",
          "name": "stdout",
          "text": [
            "(-5, 3, -4, 9, -3)\n",
            "(-2, 1, 7, 2, -8)\n",
            "(-9, -5, 7, -2, 9)\n",
            "(-7, -3, 7, -8, 11)\n",
            "(11, -7, -8, -5, 9)\n",
            "(-2, 9, 7, -8, -6)\n",
            "(3, 1, -6, 9, -7)\n",
            "(3, -7, 11, 2, -9)\n",
            "(-5, 9, -12, -3, 11)\n",
            "(7, -4, 3, 2, -8)\n",
            "(3, -12, -8, 6, 11)\n",
            "(-2, -7, -3, 3, 9)\n",
            "(7, 9, 3, -7, -12)\n",
            "(-9, -5, 3, 2, 9)\n",
            "(2, -6, 7, 6, -9)\n",
            "(2, 1, -2, -7, 6)\n",
            "(1, 7, 2, -6, -4)\n",
            "(11, 1, -4, -5, -3)\n",
            "(1, 2, -2, 11, -12)\n",
            "(-2, 3, -3, 7, -5)\n",
            "(7, 6, -5, -9, 1)\n",
            "\n",
            "Total Sets:  21\n"
          ]
        },
        {
          "output_type": "stream",
          "name": "stderr",
          "text": [
            "<ipython-input-3-d792f58b3243>:11: DeprecationWarning: Sampling from a set deprecated\n",
            "since Python 3.9 and will be removed in a subsequent version.\n",
            "  Chromosome = r.sample(Set,SetSize)\n"
          ]
        }
      ],
      "source": [
        "import random as r\n",
        "Set         = set([-12, -3, -6, 7, 2, -2, 6, 3, 9, -7, -5, -8, 1, 11, -9, -4])\n",
        "SetSize     = 5\n",
        "ResultList  = set()    # Store Result List i.e. list of sets whose sum is zero\n",
        "Iterations  = 1000   # Number of Inerations\n",
        "for i in range(Iterations):\n",
        "    # Select number of elements from Set\n",
        "    Chromosome = r.sample(Set,SetSize)\n",
        "\n",
        "    # Sum the number of elements in the Chromosome\n",
        "    if sum(Chromosome) == 0:\n",
        "        ResultList.add(tuple(Chromosome))\n",
        "\n",
        "# Print all the sets whose sum is zero\n",
        "for r in ResultList:\n",
        "\tprint (r)\n",
        "\n",
        "# Print total sets\n",
        "print (\"\\nTotal Sets: \", len(ResultList))\n"
      ]
    },
    {
      "cell_type": "code",
      "source": [
        "#Complete program with sorting\n",
        "import random as r\n",
        "\n",
        "\n",
        "\n",
        "Set         = set([-12, -3, -6, 7, 2, -2, 6, 3, 9, -7, -5, -8, 1, 11, -9, -4])\n",
        "SetSize     = 5\n",
        "ResultList  = set()    # Store Result List i.e. list of sets whose sum is zero\n",
        "Iterations  = 1000   # Number of Inerations\n",
        "\n",
        "\n",
        "#-------------------------------------------------------------\n",
        "# Step3: Start Program\n",
        "#-------------------------------------------------------------\n",
        "\n",
        "# Loop till number of Iterations\n",
        "for i in range(Iterations):\n",
        "    # Select number of elements from Set\n",
        "    Chromosome = r.sample(Set,SetSize)\n",
        "    Chromosome.sort()\n",
        "\n",
        "    # Sum the number of elements in the Chromosome\n",
        "    if sum(Chromosome) == 0:\n",
        "        ResultList.add(tuple(Chromosome))\n",
        "\n",
        "# Print all the sets whose sum is zero\n",
        "for r in ResultList:\n",
        "\tprint (r)\n",
        "\n",
        "# Print total sets\n",
        "print (\"\\nTotal Sets: \", len(ResultList))"
      ],
      "metadata": {
        "colab": {
          "base_uri": "https://localhost:8080/"
        },
        "id": "uXn_kED6WRfN",
        "outputId": "2cad9a03-d180-40c9-dcb6-fd3e0c654aca"
      },
      "execution_count": null,
      "outputs": [
        {
          "output_type": "stream",
          "name": "stdout",
          "text": [
            "(-7, -4, -2, 6, 7)\n",
            "(-12, -6, 1, 6, 11)\n",
            "(-9, -8, 2, 6, 9)\n",
            "(-8, -6, -4, 7, 11)\n",
            "(-12, -5, 1, 7, 9)\n",
            "(-12, -3, -2, 6, 11)\n",
            "(-7, -6, -2, 6, 9)\n",
            "(-9, -5, 2, 3, 9)\n",
            "(-9, -3, 1, 2, 9)\n",
            "(-8, -2, 1, 3, 6)\n",
            "(-12, -2, 2, 3, 9)\n",
            "(-4, -3, -2, 3, 6)\n",
            "(-8, -4, -2, 3, 11)\n",
            "(-9, -7, 3, 6, 7)\n",
            "(-12, -8, 3, 6, 11)\n",
            "(-7, -5, 1, 2, 9)\n",
            "(-8, -3, -2, 2, 11)\n",
            "(-8, -3, 2, 3, 6)\n",
            "(-5, -4, -2, 2, 9)\n",
            "(-9, -4, -2, 6, 9)\n",
            "(-5, -4, -3, 3, 9)\n",
            "(-6, -5, -2, 6, 7)\n",
            "(-8, -6, 2, 3, 9)\n",
            "\n",
            "Total Sets:  23\n"
          ]
        },
        {
          "output_type": "stream",
          "name": "stderr",
          "text": [
            "<ipython-input-5-38c75efa480d>:18: DeprecationWarning: Sampling from a set deprecated\n",
            "since Python 3.9 and will be removed in a subsequent version.\n",
            "  Chromosome = r.sample(Set,SetSize)\n"
          ]
        }
      ]
    },
    {
      "cell_type": "markdown",
      "source": [
        "2. Problem Statement:\n",
        "Find all the subsets from a set of numbers whose sum is zero.\n",
        "\n",
        " Constraint: Subset size must be 3 to 6 only\n",
        "\n",
        " Set={-12, -3, -6, 7, 2, -2, 6, 3, 9, -7, -5, -8, 1, 11, -9, -4}"
      ],
      "metadata": {
        "id": "VxtJrK7EVuNQ"
      }
    },
    {
      "cell_type": "code",
      "source": [
        "#-------------------------------------------------------------\n",
        "# Step 1: Library inclusion\n",
        "#-------------------------------------------------------------\n",
        "import random as r\n",
        "\n",
        "\n",
        "#-------------------------------------------------------------\n",
        "# Step 2: Parameter Setting\n",
        "#-------------------------------------------------------------\n",
        "Set         = set([-12, -3, -6, 7, 2, -2, 6, 3, 9, -7, -5, -8, 1, 11, -9, -4])\n",
        "SetLB       = 3\n",
        "SetUB       = 6\n",
        "ResultList  = set()    # Store Result List i.e. list of sets whose sum is zero\n",
        "Iterations  = 1000   # Number of Inerations\n",
        "\n",
        "\n",
        "#-------------------------------------------------------------\n",
        "# Step3: Start Program\n",
        "#-------------------------------------------------------------\n",
        "\n",
        "# Loop till number of Iterations\n",
        "for i in range(Iterations):\n",
        "    # Select set size randomly\n",
        "    SetSize = r.randint(SetLB,SetUB)\n",
        "\n",
        "    # Select number of elements from Set\n",
        "    Chromosome = r.sample(Set,SetSize)\n",
        "    Chromosome.sort()\n",
        "\n",
        "    # Sum the number of elements in the Chromosome\n",
        "    if sum(Chromosome) == 0:\n",
        "        ResultList.add(tuple(Chromosome))\n",
        "\n",
        "# Print all the sets whose sum is zero\n",
        "for r in ResultList:\n",
        "\tprint (r)\n",
        "\n",
        "# Print total sets\n",
        "print (\"\\nTotal Sets: \", len(ResultList))"
      ],
      "metadata": {
        "colab": {
          "base_uri": "https://localhost:8080/"
        },
        "id": "lwxV2XMtV05y",
        "outputId": "df1871c6-8a4d-4db9-e5fc-ee60bfc4e008"
      },
      "execution_count": null,
      "outputs": [
        {
          "output_type": "stream",
          "name": "stdout",
          "text": [
            "(-8, -5, -4, 6, 11)\n",
            "(-7, -4, 1, 3, 7)\n",
            "(-7, -3, 1, 9)\n",
            "(-12, -4, -2, 2, 7, 9)\n",
            "(-6, -4, 3, 7)\n",
            "(-9, -4, -3, 7, 9)\n",
            "(-5, -3, 1, 7)\n",
            "(-5, -4, 2, 7)\n",
            "(-12, 1, 11)\n",
            "(-12, -4, -3, 3, 7, 9)\n",
            "(-5, -2, 1, 6)\n",
            "(-7, -6, 6, 7)\n",
            "(-9, -3, 1, 11)\n",
            "(-8, -2, 1, 9)\n",
            "(-6, -5, -3, 3, 11)\n",
            "(-7, -4, 11)\n",
            "(-9, -7, 7, 9)\n",
            "(-8, -4, -2, 3, 11)\n",
            "(-4, -2, 6)\n",
            "(-9, -4, -2, 1, 3, 11)\n",
            "(-6, -5, 11)\n",
            "(-8, -5, 2, 11)\n",
            "(-12, -6, -2, 2, 7, 11)\n",
            "(-7, -6, 2, 11)\n",
            "(-7, 1, 6)\n",
            "(-5, -4, -2, 11)\n",
            "(-8, -3, 11)\n",
            "(-12, -8, -2, 6, 7, 9)\n",
            "(-12, -8, 9, 11)\n",
            "\n",
            "Total Sets:  29\n"
          ]
        },
        {
          "output_type": "stream",
          "name": "stderr",
          "text": [
            "<ipython-input-4-8bdee75e019c>:27: DeprecationWarning: Sampling from a set deprecated\n",
            "since Python 3.9 and will be removed in a subsequent version.\n",
            "  Chromosome = r.sample(Set,SetSize)\n"
          ]
        }
      ]
    }
  ]
}