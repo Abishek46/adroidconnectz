{
  "nbformat": 4,
  "nbformat_minor": 0,
  "metadata": {
    "colab": {
      "provenance": [],
      "authorship_tag": "ABX9TyM/8bbQwy9bJ1JOKufbaQ9y",
      "include_colab_link": true
    },
    "kernelspec": {
      "name": "python3",
      "display_name": "Python 3"
    },
    "language_info": {
      "name": "python"
    }
  },
  "cells": [
    {
      "cell_type": "markdown",
      "metadata": {
        "id": "view-in-github",
        "colab_type": "text"
      },
      "source": [
        "<a href=\"https://colab.research.google.com/github/Abishek46/adroidconnectz/blob/main/Assignment_01_Python_Assignment_adroid.ipynb\" target=\"_parent\"><img src=\"https://colab.research.google.com/assets/colab-badge.svg\" alt=\"Open In Colab\"/></a>"
      ]
    },
    {
      "cell_type": "markdown",
      "source": [
        "Q1. L is a list defined as L= [11, 12, 13, 14].\n",
        "\n",
        "(i) WAP to add 50 and 60 to L.\n",
        "\n",
        "(ii) WAP to remove 11 and 13from L.\n",
        "\n",
        "(iii) WAP to sort L in ascending order.\n",
        "\n",
        "(iv) WAP to sort L in descending order.\n",
        "\n",
        "(v) WAP to search for 13 in L.\n",
        "\n",
        "(vi) WAP to count the number of elements present in L.\n",
        "\n",
        "\n",
        "(vii) WAP to sum all the elements in L.\n",
        "\n",
        "(viii) WAP to sum all ODD numbers in L.\n",
        "\n",
        "(ix) WAP to sum all EVEN numbers in L.\n",
        "\n",
        "(x) WAP to sum all PRIME numbers in L.\n",
        "\n",
        "(xi) WAP to clear all the elements in L.\n",
        "\n",
        "(xii) WAP to delete L.\n"
      ],
      "metadata": {
        "id": "yK4pbFIYJqNI"
      }
    },
    {
      "cell_type": "code",
      "execution_count": null,
      "metadata": {
        "colab": {
          "base_uri": "https://localhost:8080/"
        },
        "id": "3qlYBE3_Jj2d",
        "outputId": "c294a97c-ba95-4d97-bcbd-c1140188a2ab"
      },
      "outputs": [
        {
          "output_type": "stream",
          "name": "stdout",
          "text": [
            "List after adding 50 and 60: [11, 12, 13, 14, 50, 60]\n"
          ]
        }
      ],
      "source": [
        "# (i) Adding elements to the list L\n",
        "L = [11, 12, 13, 14]\n",
        "L.append(50)\n",
        "L.append(60)\n",
        "print(\"List after adding 50 and 60:\", L)"
      ]
    },
    {
      "cell_type": "code",
      "source": [
        "# (ii) Removing elements from the list L\n",
        "L.remove(11)\n",
        "L.remove(13)\n",
        "print(\"List after removing 11 and 13:\", L)"
      ],
      "metadata": {
        "colab": {
          "base_uri": "https://localhost:8080/"
        },
        "id": "9tdj6PytKBfm",
        "outputId": "39d30170-6d6e-4a5f-d546-a78e59606467"
      },
      "execution_count": null,
      "outputs": [
        {
          "output_type": "stream",
          "name": "stdout",
          "text": [
            "List after removing 11 and 13: [12, 14, 50, 60]\n"
          ]
        }
      ]
    },
    {
      "cell_type": "code",
      "source": [
        "# (iii) Sorting the list L in ascending order\n",
        "L.sort()\n",
        "print(\"List sorted in ascending order:\", L)"
      ],
      "metadata": {
        "colab": {
          "base_uri": "https://localhost:8080/"
        },
        "id": "AW9tYi_cKB6C",
        "outputId": "5c83e6a0-3809-4677-87c9-255d7d7e1cc1"
      },
      "execution_count": null,
      "outputs": [
        {
          "output_type": "stream",
          "name": "stdout",
          "text": [
            "List sorted in ascending order: [12, 14, 50, 60]\n"
          ]
        }
      ]
    },
    {
      "cell_type": "code",
      "source": [
        "# (iv) Sorting the list L in descending order\n",
        "L.sort(reverse=True)\n",
        "print(\"List sorted in descending order:\", L)"
      ],
      "metadata": {
        "colab": {
          "base_uri": "https://localhost:8080/"
        },
        "id": "XsJq2-GnKCRC",
        "outputId": "e9abc458-6186-496f-e2d6-a7219f1d52f8"
      },
      "execution_count": null,
      "outputs": [
        {
          "output_type": "stream",
          "name": "stdout",
          "text": [
            "List sorted in descending order: [60, 50, 14, 12]\n"
          ]
        }
      ]
    },
    {
      "cell_type": "code",
      "source": [
        "# (v) Searching for the number 13 in the list L\n",
        "if 13 in L:\n",
        "    print(\"13 is present in the list.\")\n",
        "else:\n",
        "    print(\"13 is not present in the list.\")"
      ],
      "metadata": {
        "colab": {
          "base_uri": "https://localhost:8080/"
        },
        "id": "77HIZP0NKCWE",
        "outputId": "38b5e656-18b1-4c0a-f1f0-9ec501feae3a"
      },
      "execution_count": null,
      "outputs": [
        {
          "output_type": "stream",
          "name": "stdout",
          "text": [
            "13 is not present in the list.\n"
          ]
        }
      ]
    },
    {
      "cell_type": "code",
      "source": [
        "# (vi) Counting the number of elements in the list L\n",
        "count = len(L)\n",
        "print(\"Number of elements in the list:\", count)"
      ],
      "metadata": {
        "colab": {
          "base_uri": "https://localhost:8080/"
        },
        "id": "WaExFIKeKCaa",
        "outputId": "6937c1e5-f738-4cd9-e499-c135661e27cb"
      },
      "execution_count": null,
      "outputs": [
        {
          "output_type": "stream",
          "name": "stdout",
          "text": [
            "Number of elements in the list: 4\n"
          ]
        }
      ]
    },
    {
      "cell_type": "code",
      "source": [
        "# (vii) Summing all the elements in the list L\n",
        "sum_all = sum(L)\n",
        "print(\"Sum of all elements in the list:\", sum_all)"
      ],
      "metadata": {
        "colab": {
          "base_uri": "https://localhost:8080/"
        },
        "id": "MP9ylVPNKCdt",
        "outputId": "19e33e76-d5a0-4c7e-efe2-35b060177c7f"
      },
      "execution_count": null,
      "outputs": [
        {
          "output_type": "stream",
          "name": "stdout",
          "text": [
            "Sum of all elements in the list: 136\n"
          ]
        }
      ]
    },
    {
      "cell_type": "code",
      "source": [
        "# (viii) Summing all the ODD numbers in the list L\n",
        "sum_odd = sum(num for num in L if num % 2 != 0)\n",
        "print(\"Sum of all odd numbers in the list:\", sum_odd)"
      ],
      "metadata": {
        "colab": {
          "base_uri": "https://localhost:8080/"
        },
        "id": "Rgu450i8KChF",
        "outputId": "ebc8d739-9fb4-48e3-8165-9bbf62a9e521"
      },
      "execution_count": null,
      "outputs": [
        {
          "output_type": "stream",
          "name": "stdout",
          "text": [
            "Sum of all odd numbers in the list: 0\n"
          ]
        }
      ]
    },
    {
      "cell_type": "code",
      "source": [
        "# (ix) Summing all the EVEN numbers in the list L\n",
        "sum_even = sum(num for num in L if num % 2 == 0)\n",
        "print(\"Sum of all even numbers in the list:\", sum_even)"
      ],
      "metadata": {
        "colab": {
          "base_uri": "https://localhost:8080/"
        },
        "id": "Yy02-UF_KCjx",
        "outputId": "e488dcf7-b92b-4bce-adeb-470a148daf80"
      },
      "execution_count": null,
      "outputs": [
        {
          "output_type": "stream",
          "name": "stdout",
          "text": [
            "Sum of all even numbers in the list: 136\n"
          ]
        }
      ]
    },
    {
      "cell_type": "code",
      "source": [
        "# (x) Summing all the PRIME numbers in the list L\n",
        "def is_prime(n):\n",
        "    if n <= 1:\n",
        "        return False\n",
        "    for i in range(2, int(n ** 0.5) + 1):\n",
        "        if n % i == 0:\n",
        "            return False\n",
        "    return True\n",
        "sum_prime = sum(num for num in L if is_prime(num))\n",
        "print(\"Sum of all prime numbers in the list:\", sum_prime)"
      ],
      "metadata": {
        "colab": {
          "base_uri": "https://localhost:8080/"
        },
        "id": "V-EC0CyFKCxs",
        "outputId": "93207845-2d11-4942-8127-f2af4a5e58a1"
      },
      "execution_count": null,
      "outputs": [
        {
          "output_type": "stream",
          "name": "stdout",
          "text": [
            "Sum of all prime numbers in the list: 0\n"
          ]
        }
      ]
    },
    {
      "cell_type": "code",
      "source": [
        "# (xi) Clearing all the elements in the list L\n",
        "L.clear()\n",
        "print(\"List after clearing all elements:\", L)"
      ],
      "metadata": {
        "colab": {
          "base_uri": "https://localhost:8080/"
        },
        "id": "NjSAeYdmKDDy",
        "outputId": "368c2278-093e-46d0-f865-9e87375537c7"
      },
      "execution_count": null,
      "outputs": [
        {
          "output_type": "stream",
          "name": "stdout",
          "text": [
            "List after clearing all elements: []\n"
          ]
        }
      ]
    },
    {
      "cell_type": "code",
      "source": [
        "# (xii) Deleting the list L\n",
        "del L"
      ],
      "metadata": {
        "id": "qxJR_s7kKsjA"
      },
      "execution_count": null,
      "outputs": []
    },
    {
      "cell_type": "markdown",
      "source": [
        "Q2. D is a dictionary defined as D= {1:5.6, 2:7.8, 3:6.6, 4:8.7, 5:7.7}.\n",
        "\n",
        "(i) WAP to add new entry in D; key=8 and value is 8.8\n",
        "\n",
        "(ii) WAP to remove key=2.\n",
        "\n",
        "(iii) WAP to check weather 6 key is present in D.\n",
        "\n",
        "(iv) WAP to count the number of elements present in D.\n",
        "\n",
        "(v) WAP to add all the values present D.\n",
        "\n",
        "(vi) WAP to update the value of 3 to 7.1.\n",
        "\n",
        "(vii) WAP to clear the dictionary.\n"
      ],
      "metadata": {
        "id": "GAFwAbvaJpC5"
      }
    },
    {
      "cell_type": "code",
      "source": [
        "# (i) Adding a new entry in the dictionary D\n",
        "D = {1: 5.6, 2: 7.8, 3: 6.6, 4: 8.7, 5: 7.7}\n",
        "D[8] = 8.8\n",
        "print(\"Dictionary after adding new entry:\", D)\n"
      ],
      "metadata": {
        "colab": {
          "base_uri": "https://localhost:8080/"
        },
        "id": "TnvQc_s6LNkl",
        "outputId": "df8ec484-3634-4807-d653-eca9180064a5"
      },
      "execution_count": null,
      "outputs": [
        {
          "output_type": "stream",
          "name": "stdout",
          "text": [
            "Dictionary after adding new entry: {1: 5.6, 2: 7.8, 3: 6.6, 4: 8.7, 5: 7.7, 8: 8.8}\n"
          ]
        }
      ]
    },
    {
      "cell_type": "code",
      "source": [
        "# (ii) Removing a key from the dictionary D\n",
        "del D[2]\n",
        "print(\"Dictionary after removing key 2:\", D)"
      ],
      "metadata": {
        "colab": {
          "base_uri": "https://localhost:8080/"
        },
        "id": "bFpuEaW2LOMU",
        "outputId": "e39faad8-c8aa-4086-d57d-7975ebc6c3c0"
      },
      "execution_count": null,
      "outputs": [
        {
          "output_type": "stream",
          "name": "stdout",
          "text": [
            "Dictionary after removing key 2: {1: 5.6, 3: 6.6, 4: 8.7, 5: 7.7, 8: 8.8}\n"
          ]
        }
      ]
    },
    {
      "cell_type": "code",
      "source": [
        "# (iii) Checking if key 6 is present in the dictionary D\n",
        "if 6 in D:\n",
        "    print(\"Key 6 is present in the dictionary.\")"
      ],
      "metadata": {
        "id": "OsYhwqjkLOTB"
      },
      "execution_count": null,
      "outputs": []
    },
    {
      "cell_type": "code",
      "source": [
        "# (iv) Counting the number of elements in the dictionary D\n",
        "count = len(D)\n",
        "print(\"Number of elements in the dictionary:\", count)"
      ],
      "metadata": {
        "colab": {
          "base_uri": "https://localhost:8080/"
        },
        "id": "QXRxwadmLOZ_",
        "outputId": "4ba70eab-74ee-4713-a014-a2a8d5192edb"
      },
      "execution_count": null,
      "outputs": [
        {
          "output_type": "stream",
          "name": "stdout",
          "text": [
            "Number of elements in the dictionary: 5\n"
          ]
        }
      ]
    },
    {
      "cell_type": "code",
      "source": [
        "# (v) Adding all the values present in the dictionary D\n",
        "sum_values = sum(D.values())\n",
        "print(\"Sum of all values in the dictionary:\", sum_values)"
      ],
      "metadata": {
        "colab": {
          "base_uri": "https://localhost:8080/"
        },
        "id": "gl_NPeW2LOiV",
        "outputId": "c60aac5d-88c0-49d0-86ab-942d558db317"
      },
      "execution_count": null,
      "outputs": [
        {
          "output_type": "stream",
          "name": "stdout",
          "text": [
            "Sum of all values in the dictionary: 37.4\n"
          ]
        }
      ]
    },
    {
      "cell_type": "code",
      "source": [
        "# (vi) Updating the value of key 3 to 7.1\n",
        "D[3] = 7.1\n",
        "print(\"Dictionary after updating value of key 3:\", D)"
      ],
      "metadata": {
        "colab": {
          "base_uri": "https://localhost:8080/"
        },
        "id": "GTpZkbojLOtU",
        "outputId": "8713eeb4-b4ca-49ea-923c-c19ff5fb0bb2"
      },
      "execution_count": null,
      "outputs": [
        {
          "output_type": "stream",
          "name": "stdout",
          "text": [
            "Dictionary after updating value of key 3: {1: 5.6, 3: 7.1, 4: 8.7, 5: 7.7, 8: 8.8}\n"
          ]
        }
      ]
    },
    {
      "cell_type": "code",
      "source": [
        "# (vii) Clearing the dictionary D\n",
        "D.clear()\n",
        "print(\"Dictionary after clearing all elements:\", D)"
      ],
      "metadata": {
        "colab": {
          "base_uri": "https://localhost:8080/"
        },
        "id": "_riCrTHWLO39",
        "outputId": "662096bc-9322-4ff1-cce8-7a0ea7572e3e"
      },
      "execution_count": null,
      "outputs": [
        {
          "output_type": "stream",
          "name": "stdout",
          "text": [
            "Dictionary after clearing all elements: {}\n"
          ]
        }
      ]
    },
    {
      "cell_type": "markdown",
      "source": [
        "Q3. S1 is a set defined as S1= [10, 20, 30, 40, 50, 60].\n",
        " S2 is a set defined as S2= [40, 50, 60, 70, 80, 90].\n",
        "\n",
        "(i) WAP to add 55 and 66 in Set S1.\n",
        "\n",
        "(ii) WAP to remove 10 and 30 from Set S1.\n",
        "\n",
        "(iii) WAP to check whether 40 is present in S1.\n",
        "\n",
        "(iv) WAP to find the union between S1 and S2.\n",
        "\n",
        "(v) WAP to find the intersection between S1 and S2.\n",
        "\n",
        "(vi) WAP to find the S1 - S2.\n"
      ],
      "metadata": {
        "id": "_O9IYpeGMAvE"
      }
    },
    {
      "cell_type": "code",
      "source": [
        "# (i) Adding elements to set S1\n",
        "S1 = {10, 20, 30, 40, 50, 60}\n",
        "S1.add(55)\n",
        "S1.add(66)\n",
        "print(\"Set S1 after adding elements:\", S1)"
      ],
      "metadata": {
        "colab": {
          "base_uri": "https://localhost:8080/"
        },
        "id": "2XHPo_xdMIDJ",
        "outputId": "b62e20ba-eae0-4920-834d-d247764a0d60"
      },
      "execution_count": null,
      "outputs": [
        {
          "output_type": "stream",
          "name": "stdout",
          "text": [
            "Set S1 after adding elements: {50, 66, 20, 55, 40, 10, 60, 30}\n"
          ]
        }
      ]
    },
    {
      "cell_type": "code",
      "source": [
        "# (ii) Removing elements from set S1\n",
        "S1.remove(10)\n",
        "S1.remove(30)\n",
        "print(\"Set S1 after removing elements:\", S1)"
      ],
      "metadata": {
        "colab": {
          "base_uri": "https://localhost:8080/"
        },
        "id": "CGpABoq2MMkb",
        "outputId": "45777a8b-ff8d-4ea7-c8c0-411408ad3d4c"
      },
      "execution_count": null,
      "outputs": [
        {
          "output_type": "stream",
          "name": "stdout",
          "text": [
            "Set S1 after removing elements: {50, 66, 20, 55, 40, 60}\n"
          ]
        }
      ]
    },
    {
      "cell_type": "code",
      "source": [
        "# (iii) Checking if 40 is present in set S1\n",
        "if 40 in S1:\n",
        "    print(\"40 is present in set S1.\")\n",
        "else:\n",
        "    print(\"40 is not present in set S1.\")"
      ],
      "metadata": {
        "colab": {
          "base_uri": "https://localhost:8080/"
        },
        "id": "wpWOZwTCMOlL",
        "outputId": "918a5023-254c-477a-fa86-20d871e40949"
      },
      "execution_count": null,
      "outputs": [
        {
          "output_type": "stream",
          "name": "stdout",
          "text": [
            "40 is present in set S1.\n"
          ]
        }
      ]
    },
    {
      "cell_type": "code",
      "source": [
        "# (iv) Finding the union of sets S1 and S2\n",
        "S2 = {40, 50, 60, 70, 80, 90}\n",
        "union_set = S1.union(S2)\n",
        "print(\"Union of sets S1 and S2:\", union_set)"
      ],
      "metadata": {
        "colab": {
          "base_uri": "https://localhost:8080/"
        },
        "id": "kVY3YTFYMQfq",
        "outputId": "916e6f0d-aeaa-4216-b373-363bd9ba1e84"
      },
      "execution_count": null,
      "outputs": [
        {
          "output_type": "stream",
          "name": "stdout",
          "text": [
            "Union of sets S1 and S2: {66, 70, 40, 80, 50, 20, 55, 90, 60}\n"
          ]
        }
      ]
    },
    {
      "cell_type": "code",
      "source": [
        "# (v) Finding the intersection of sets S1 and S2\n",
        "intersection_set = S1.intersection(S2)\n",
        "print(\"Intersection of sets S1 and S2:\", intersection_set)"
      ],
      "metadata": {
        "colab": {
          "base_uri": "https://localhost:8080/"
        },
        "id": "wnsONG0tMSa7",
        "outputId": "a82d4928-239a-486a-fc7d-97ad5b2138eb"
      },
      "execution_count": null,
      "outputs": [
        {
          "output_type": "stream",
          "name": "stdout",
          "text": [
            "Intersection of sets S1 and S2: {40, 50, 60}\n"
          ]
        }
      ]
    },
    {
      "cell_type": "code",
      "source": [
        "# (vi) Finding the difference between sets S1 and S2 (S1 - S2)\n",
        "difference_set = S1.difference(S2)\n",
        "print(\"Difference between sets S1 and S2 (S1 - S2):\", difference_set)"
      ],
      "metadata": {
        "colab": {
          "base_uri": "https://localhost:8080/"
        },
        "id": "QU1ZhGG2MUp5",
        "outputId": "7e49630d-05c4-4da1-c103-06e9aa512b2c"
      },
      "execution_count": null,
      "outputs": [
        {
          "output_type": "stream",
          "name": "stdout",
          "text": [
            "Difference between sets S1 and S2 (S1 - S2): {66, 20, 55}\n"
          ]
        }
      ]
    },
    {
      "cell_type": "markdown",
      "source": [
        "Q4. Write the following program.\n",
        "\n",
        "(i) WAP to print 100 random strings whose length between 6 and 8.\n",
        "\n",
        "\n",
        "(ii) WAP to print all prime numbers between 600 and 800.\n",
        "\n",
        "(iii) WAP to print all numbers between 100 and 1000 that are divisible by 7 and 9"
      ],
      "metadata": {
        "id": "-5PkcjAUM6q3"
      }
    },
    {
      "cell_type": "code",
      "source": [
        "#Print 100 random strings whose length between 6 and 8\n",
        "import random\n",
        "import string\n",
        "\n",
        "def generate_random_string():\n",
        "    length = random.randint(6, 8)\n",
        "    random_string = ''.join(random.choices(string.ascii_lowercase, k=length))\n",
        "    return random_string\n",
        "\n",
        "print(\"100 Random Strings:\")\n",
        "for _ in range(100):\n",
        "    random_string = generate_random_string()\n",
        "    print(random_string)\n"
      ],
      "metadata": {
        "colab": {
          "base_uri": "https://localhost:8080/"
        },
        "id": "FaE4WgsONIFY",
        "outputId": "a6433a38-f330-47e1-da23-23d0592c6a66"
      },
      "execution_count": null,
      "outputs": [
        {
          "output_type": "stream",
          "name": "stdout",
          "text": [
            "100 Random Strings:\n",
            "vrvqsja\n",
            "hotmkf\n",
            "pzrjwuo\n",
            "eowjvhti\n",
            "rlkzhjza\n",
            "tvzcpq\n",
            "mslrkgs\n",
            "onpmlogg\n",
            "qekufh\n",
            "ujknkb\n",
            "vcjmcedq\n",
            "lsnomoi\n",
            "ssigtjc\n",
            "wlpxsl\n",
            "jnstcbk\n",
            "byooac\n",
            "nqyfqeky\n",
            "bjgmrv\n",
            "bctkuh\n",
            "rslrjsi\n",
            "qiylxfm\n",
            "bzkukn\n",
            "jhguxzar\n",
            "zuejqo\n",
            "carjvkqf\n",
            "syhkvjtk\n",
            "wepxqd\n",
            "xvcinx\n",
            "xaxqccbf\n",
            "clarez\n",
            "ahbjwe\n",
            "fmssuga\n",
            "fdypruuf\n",
            "qxjbftvb\n",
            "ckylcs\n",
            "efkaegu\n",
            "zozhhpbj\n",
            "xlnngtvn\n",
            "jmnsivke\n",
            "yiygyps\n",
            "wvluecv\n",
            "dkaoenac\n",
            "ixdlop\n",
            "imzlsb\n",
            "ftulwq\n",
            "qfrkyfgk\n",
            "qiyukw\n",
            "mmypsoz\n",
            "mtqughit\n",
            "sdywvlr\n",
            "tqzmxd\n",
            "oclmkwdw\n",
            "fbismo\n",
            "xkymzr\n",
            "aoggbap\n",
            "jfgsfuj\n",
            "osiproyx\n",
            "fdzenpxl\n",
            "jxodhfe\n",
            "vzzacy\n",
            "msftqubg\n",
            "efatjmw\n",
            "sxqqnls\n",
            "dxnxmwk\n",
            "hkcqamey\n",
            "zkjmli\n",
            "huzovkdm\n",
            "rtovgecu\n",
            "gwvytwte\n",
            "yczhlp\n",
            "vtfrqhu\n",
            "aexzue\n",
            "nppwjsgh\n",
            "xqhddf\n",
            "aitiupjw\n",
            "dfbjafbi\n",
            "xotjtgsl\n",
            "xmrohr\n",
            "keivaz\n",
            "urzukdzd\n",
            "tfzqbl\n",
            "clehbgn\n",
            "pxjzae\n",
            "mhxranvs\n",
            "kiwkktr\n",
            "drmbavil\n",
            "fvxxdhks\n",
            "jsbjmk\n",
            "qpbwbq\n",
            "izhysbox\n",
            "xcpochp\n",
            "sptdvfm\n",
            "anxviry\n",
            "evqjpzz\n",
            "hjuhpbd\n",
            "wberqwy\n",
            "mvxhkid\n",
            "wngeclvf\n",
            "ijrlaab\n",
            "hscahsm\n"
          ]
        }
      ]
    },
    {
      "cell_type": "code",
      "source": [
        "#print all prime numbers between 600 and 800\n",
        "def is_prime(n):\n",
        "    if n <= 1:\n",
        "        return False\n",
        "    for i in range(2, int(n ** 0.5) + 1):\n",
        "        if n % i == 0:\n",
        "            return False\n",
        "    return True\n",
        "\n",
        "print(\"Prime numbers between 600 and 800:\")\n",
        "for num in range(600, 801):\n",
        "    if is_prime(num):\n",
        "        print(num)"
      ],
      "metadata": {
        "colab": {
          "base_uri": "https://localhost:8080/"
        },
        "id": "0L5Zl81wNca6",
        "outputId": "d778cb5f-9403-4451-c953-a1f49e13eea1"
      },
      "execution_count": null,
      "outputs": [
        {
          "output_type": "stream",
          "name": "stdout",
          "text": [
            "Prime numbers between 600 and 800:\n",
            "601\n",
            "607\n",
            "613\n",
            "617\n",
            "619\n",
            "631\n",
            "641\n",
            "643\n",
            "647\n",
            "653\n",
            "659\n",
            "661\n",
            "673\n",
            "677\n",
            "683\n",
            "691\n",
            "701\n",
            "709\n",
            "719\n",
            "727\n",
            "733\n",
            "739\n",
            "743\n",
            "751\n",
            "757\n",
            "761\n",
            "769\n",
            "773\n",
            "787\n",
            "797\n"
          ]
        }
      ]
    },
    {
      "cell_type": "code",
      "source": [
        " #print all numbers between 100 and 1000 that are divisible by 7 and 9\n",
        "print(\"Numbers between 100 and 1000 divisible by 7 and 9:\")\n",
        "for num in range(100, 1001):\n",
        "    if num % 7 == 0 and num % 9 == 0:\n",
        "        print(num)"
      ],
      "metadata": {
        "colab": {
          "base_uri": "https://localhost:8080/"
        },
        "id": "ep00qviRNl0b",
        "outputId": "281a34b4-2f94-440a-d3c1-1552435bbdd8"
      },
      "execution_count": null,
      "outputs": [
        {
          "output_type": "stream",
          "name": "stdout",
          "text": [
            "Numbers between 100 and 1000 divisible by 7 and 9:\n",
            "126\n",
            "189\n",
            "252\n",
            "315\n",
            "378\n",
            "441\n",
            "504\n",
            "567\n",
            "630\n",
            "693\n",
            "756\n",
            "819\n",
            "882\n",
            "945\n"
          ]
        }
      ]
    },
    {
      "cell_type": "markdown",
      "source": [
        "WAP to create two lists of 10 random numbers between 10 and 30; Find\n",
        "\n",
        "(i) Common numbers in the two lists\n",
        "\n",
        "(ii) Unique numbers in both the list\n",
        "\n",
        "(iii) Minimum in both the list\n",
        "\n",
        "(iv) Maximum in both the list\n",
        "\n",
        "(v) Sum of both the lists"
      ],
      "metadata": {
        "id": "9piCe7jeN2LK"
      }
    },
    {
      "cell_type": "code",
      "source": [
        "import random\n",
        "\n",
        "# Generate two lists of random numbers\n",
        "list1 = random.sample(range(10, 31), 10)\n",
        "list2 = random.sample(range(10, 31), 10)\n",
        "\n",
        "print(\"List 1:\", list1)\n",
        "print(\"List 2:\", list2)"
      ],
      "metadata": {
        "colab": {
          "base_uri": "https://localhost:8080/"
        },
        "id": "UXzGI9hPNyba",
        "outputId": "1fc5e271-ab40-43da-8d8a-8a3b8a5273c3"
      },
      "execution_count": null,
      "outputs": [
        {
          "output_type": "stream",
          "name": "stdout",
          "text": [
            "List 1: [19, 13, 14, 30, 24, 15, 11, 16, 20, 23]\n",
            "List 2: [30, 18, 27, 28, 16, 23, 10, 19, 29, 13]\n"
          ]
        }
      ]
    },
    {
      "cell_type": "code",
      "source": [
        "# (i) Find common numbers in the two lists\n",
        "common_numbers = set(list1).intersection(list2)\n",
        "print(\"Common numbers:\", common_numbers)"
      ],
      "metadata": {
        "colab": {
          "base_uri": "https://localhost:8080/"
        },
        "id": "SKVdag0XODMJ",
        "outputId": "b35f2461-2828-49ec-f3e6-91ea8825b84e"
      },
      "execution_count": null,
      "outputs": [
        {
          "output_type": "stream",
          "name": "stdout",
          "text": [
            "Common numbers: {13, 16, 19, 23, 30}\n"
          ]
        }
      ]
    },
    {
      "cell_type": "code",
      "source": [
        "# (ii) Find unique numbers in both lists\n",
        "unique_numbers = set(list1).symmetric_difference(list2)\n",
        "print(\"Unique numbers:\", unique_numbers)"
      ],
      "metadata": {
        "colab": {
          "base_uri": "https://localhost:8080/"
        },
        "id": "yFv1MIruOIq6",
        "outputId": "405af848-d9f4-423f-87bf-7ed47ad4b971"
      },
      "execution_count": null,
      "outputs": [
        {
          "output_type": "stream",
          "name": "stdout",
          "text": [
            "Unique numbers: {10, 11, 14, 15, 18, 20, 24, 27, 28, 29}\n"
          ]
        }
      ]
    },
    {
      "cell_type": "code",
      "source": [
        "# (iii) Find the minimum in both lists\n",
        "min_value = min(min(list1), min(list2))\n",
        "print(\"Minimum value:\", min_value)"
      ],
      "metadata": {
        "colab": {
          "base_uri": "https://localhost:8080/"
        },
        "id": "UwtCsMMvOLlJ",
        "outputId": "c3b6be66-a667-4f17-dfe7-6ae7ac64c7ff"
      },
      "execution_count": null,
      "outputs": [
        {
          "output_type": "stream",
          "name": "stdout",
          "text": [
            "Minimum value: 10\n"
          ]
        }
      ]
    },
    {
      "cell_type": "code",
      "source": [
        "# (iv) Find the maximum in both lists\n",
        "max_value = max(max(list1), max(list2))\n",
        "print(\"Maximum value:\", max_value)"
      ],
      "metadata": {
        "colab": {
          "base_uri": "https://localhost:8080/"
        },
        "id": "3R2GCm3FON0B",
        "outputId": "ddcf8e03-6946-4b31-dfc6-6d4891366309"
      },
      "execution_count": null,
      "outputs": [
        {
          "output_type": "stream",
          "name": "stdout",
          "text": [
            "Maximum value: 30\n"
          ]
        }
      ]
    },
    {
      "cell_type": "code",
      "source": [
        "# (v) Find the sum of both lists\n",
        "sum_both_lists = sum(list1) + sum(list2)\n",
        "print(\"Sum of both lists:\", sum_both_lists)"
      ],
      "metadata": {
        "colab": {
          "base_uri": "https://localhost:8080/"
        },
        "id": "rjDuvllbOQRC",
        "outputId": "4533e1ee-1273-471e-dadc-0470f880e9f2"
      },
      "execution_count": null,
      "outputs": [
        {
          "output_type": "stream",
          "name": "stdout",
          "text": [
            "Sum of both lists: 398\n"
          ]
        }
      ]
    },
    {
      "cell_type": "markdown",
      "source": [
        "Q6. WAP to create a list of 100 random numbers between 100 and 900. Count and print the:\n",
        "\n",
        "(i) All odd numbers\n",
        "\n",
        "(ii) All even numbers\n",
        "\n",
        "(iii) All prime numbers\n"
      ],
      "metadata": {
        "id": "-xTjCPxnObdX"
      }
    },
    {
      "cell_type": "code",
      "source": [
        "import random\n",
        "\n",
        "# Generate a list of 100 random numbers between 100 and 900\n",
        "random_numbers = random.sample(range(100, 901), 100)"
      ],
      "metadata": {
        "id": "Q5C0WPL4Oemm"
      },
      "execution_count": null,
      "outputs": []
    },
    {
      "cell_type": "code",
      "source": [
        "# (i) Count and print all odd numbers\n",
        "odd_numbers = [num for num in random_numbers if num % 2 != 0]\n",
        "odd_count = len(odd_numbers)\n",
        "print(\"Odd numbers:\")\n",
        "print(odd_numbers)\n",
        "print(\"Count of odd numbers:\", odd_count)"
      ],
      "metadata": {
        "colab": {
          "base_uri": "https://localhost:8080/"
        },
        "id": "dxP9l-X9Opwj",
        "outputId": "0429760f-912d-4b06-cd12-45fdb660ba59"
      },
      "execution_count": null,
      "outputs": [
        {
          "output_type": "stream",
          "name": "stdout",
          "text": [
            "Odd numbers:\n",
            "[279, 801, 739, 435, 725, 483, 413, 693, 677, 399, 661, 821, 597, 763, 415, 245, 745, 761, 553, 357, 377, 575, 481, 707, 499, 831, 785, 109, 783, 835, 347, 659, 697, 617, 649, 125, 635, 769, 793, 797, 833, 403, 213, 453, 603, 315, 419, 155, 517, 281, 397, 327, 183]\n",
            "Count of odd numbers: 53\n"
          ]
        }
      ]
    },
    {
      "cell_type": "code",
      "source": [
        "# (ii) Count and print all even numbers\n",
        "even_numbers = [num for num in random_numbers if num % 2 == 0]\n",
        "even_count = len(even_numbers)\n",
        "print(\"Even numbers:\")\n",
        "print(even_numbers)\n",
        "print(\"Count of even numbers:\", even_count)"
      ],
      "metadata": {
        "colab": {
          "base_uri": "https://localhost:8080/"
        },
        "id": "6AFK5iUGOsk0",
        "outputId": "1683bdc0-b5ac-4466-c428-5e59468b4548"
      },
      "execution_count": null,
      "outputs": [
        {
          "output_type": "stream",
          "name": "stdout",
          "text": [
            "Even numbers:\n",
            "[388, 604, 724, 798, 846, 830, 322, 114, 226, 424, 188, 712, 862, 470, 206, 224, 452, 466, 792, 540, 414, 744, 108, 320, 542, 140, 692, 198, 746, 390, 622, 350, 748, 182, 484, 588, 186, 636, 668, 404, 204, 512, 632, 754, 160, 700, 824]\n",
            "Count of even numbers: 47\n"
          ]
        }
      ]
    },
    {
      "cell_type": "code",
      "source": [
        "# (iii) Count and print all prime numbers\n",
        "def is_prime(n):\n",
        "    if n <= 1:\n",
        "        return False\n",
        "    for i in range(2, int(n ** 0.5) + 1):\n",
        "        if n % i == 0:\n",
        "            return False\n",
        "    return True\n",
        "\n",
        "prime_numbers = [num for num in random_numbers if is_prime(num)]\n",
        "prime_count = len(prime_numbers)\n",
        "print(\"Prime numbers:\")\n",
        "print(prime_numbers)\n",
        "print(\"Count of prime numbers:\", prime_count)"
      ],
      "metadata": {
        "colab": {
          "base_uri": "https://localhost:8080/"
        },
        "id": "Zcti-ribOw3y",
        "outputId": "89083b07-b1d5-4103-9e51-52bb35d1fe1b"
      },
      "execution_count": null,
      "outputs": [
        {
          "output_type": "stream",
          "name": "stdout",
          "text": [
            "Prime numbers:\n",
            "[739, 677, 661, 821, 761, 499, 109, 347, 659, 617, 769, 797, 419, 281, 397]\n",
            "Count of prime numbers: 15\n"
          ]
        }
      ]
    },
    {
      "cell_type": "markdown",
      "source": [
        "Q7. D is a dictionary defined as D={1:\"One\",2:\"Two\",3:\"Three\",4:\"Four\", 5:\"Five\"}.\n",
        " WAP to read all the keys and values from dictionary and write to the file in the given below format.\n",
        "\n",
        "Key1, Value1\n",
        "\n",
        "\n",
        "Key2, Value2\n",
        "\n",
        "Key3, Value3"
      ],
      "metadata": {
        "id": "r2TOpn64O4eb"
      }
    },
    {
      "cell_type": "code",
      "source": [
        "D = {1: \"One\", 2: \"Two\", 3: \"Three\", 4: \"Four\", 5: \"Five\"}\n",
        "\n",
        "# Open a file in write mode\n",
        "with open(\"dictionary_output.txt\", \"w\") as file:\n",
        "    # Iterate over the dictionary items\n",
        "    for key, value in D.items():\n",
        "        # Write the key-value pair to the file in the desired format\n",
        "        file.write(f\"{key}, {value}\\n\")\n",
        "\n",
        "print(\"Dictionary keys and values written to file successfully.\")\n"
      ],
      "metadata": {
        "colab": {
          "base_uri": "https://localhost:8080/"
        },
        "id": "xncp22XFO1fD",
        "outputId": "a979016d-5341-402a-a0f9-01036fbf7364"
      },
      "execution_count": null,
      "outputs": [
        {
          "output_type": "stream",
          "name": "stdout",
          "text": [
            "Dictionary keys and values written to file successfully.\n"
          ]
        }
      ]
    },
    {
      "cell_type": "markdown",
      "source": [
        "Q8. L is a list defined as L={\"One\",\"Two\",\"Three\",\"Four\",\"Five\"}.\n",
        " WAP to count the length of reach element from a list and write to the file in the given below format:\n",
        "\n",
        "One, 3\n",
        "\n",
        "Two, 3\n",
        "\n",
        "Four, 4"
      ],
      "metadata": {
        "id": "9_hQ4h4_PNPz"
      }
    },
    {
      "cell_type": "code",
      "source": [
        "L = [\"One\", \"Two\", \"Three\", \"Four\", \"Five\"]\n",
        "\n",
        "# Open a file in write mode\n",
        "with open(\"list_output.txt\", \"w\") as file:\n",
        "    # Iterate over the list elements\n",
        "    for element in L:\n",
        "        # Write the element and its length to the file in the desired format\n",
        "        file.write(f\"{element}, {len(element)}\\n\")\n",
        "\n",
        "print(\"List elements and their lengths written to file successfully.\")\n"
      ],
      "metadata": {
        "colab": {
          "base_uri": "https://localhost:8080/"
        },
        "id": "MW7wjpPMPP_J",
        "outputId": "2782a2bc-4517-46f8-c51b-2fb410615d5d"
      },
      "execution_count": null,
      "outputs": [
        {
          "output_type": "stream",
          "name": "stdout",
          "text": [
            "List elements and their lengths written to file successfully.\n"
          ]
        }
      ]
    },
    {
      "cell_type": "markdown",
      "source": [
        "Q9. Write to the file 100 random strings whose length between 10 and 15"
      ],
      "metadata": {
        "id": "OAz8_Ay_PZgW"
      }
    },
    {
      "cell_type": "code",
      "source": [
        "import random\n",
        "import string\n",
        "\n",
        "# Generate a random string of given length\n",
        "def generate_random_string(length):\n",
        "    random_string = ''.join(random.choices(string.ascii_lowercase, k=length))\n",
        "    return random_string\n",
        "\n",
        "# Generate 100 random strings and write them to a file\n",
        "with open(\"random_strings_output.txt\", \"w\") as file:\n",
        "    for _ in range(100):\n",
        "        string_length = random.randint(10, 15)\n",
        "        random_string = generate_random_string(string_length)\n",
        "        file.write(random_string + \"\\n\")\n",
        "\n",
        "print(\"Random strings written to file successfully.\")\n"
      ],
      "metadata": {
        "colab": {
          "base_uri": "https://localhost:8080/"
        },
        "id": "AGk_L0iVPZR9",
        "outputId": "79a3a671-64bf-43fb-9818-4d11f5c5435b"
      },
      "execution_count": null,
      "outputs": [
        {
          "output_type": "stream",
          "name": "stdout",
          "text": [
            "Random strings written to file successfully.\n"
          ]
        }
      ]
    },
    {
      "cell_type": "markdown",
      "source": [
        "Q10. Write to the file all prime numbers between 600 and 800.\n"
      ],
      "metadata": {
        "id": "Ez5NZwxfPdlr"
      }
    },
    {
      "cell_type": "code",
      "source": [
        "def is_prime(n):\n",
        "    if n <= 1:\n",
        "        return False\n",
        "    for i in range(2, int(n ** 0.5) + 1):\n",
        "        if n % i == 0:\n",
        "            return False\n",
        "    return True\n",
        "\n",
        "# Find prime numbers between 600 and 800 and write them to a file\n",
        "with open(\"prime_numbers_output.txt\", \"w\") as file:\n",
        "    for num in range(600, 801):\n",
        "        if is_prime(num):\n",
        "            file.write(str(num) + \"\\n\")\n",
        "\n",
        "print(\"Prime numbers written to file successfully.\")\n"
      ],
      "metadata": {
        "colab": {
          "base_uri": "https://localhost:8080/"
        },
        "id": "mI261txBPilE",
        "outputId": "7f832848-1be2-414d-eaa5-afbd8159719a"
      },
      "execution_count": null,
      "outputs": [
        {
          "output_type": "stream",
          "name": "stdout",
          "text": [
            "Prime numbers written to file successfully.\n"
          ]
        }
      ]
    },
    {
      "cell_type": "markdown",
      "source": [
        "Q11. WAP to calculate the time taken by a program."
      ],
      "metadata": {
        "id": "D4xbZBOZPrF8"
      }
    },
    {
      "cell_type": "code",
      "source": [
        "import time\n",
        "\n",
        "# Record the start time\n",
        "start_time = time.time()\n",
        "\n",
        "# Your program code goes here\n",
        "# ...\n",
        "\n",
        "# Record the end time\n",
        "end_time = time.time()\n",
        "\n",
        "# Calculate the elapsed time\n",
        "elapsed_time = end_time - start_time\n",
        "\n",
        "# Print the elapsed time\n",
        "print(\"Time taken:\", elapsed_time, \"seconds\")\n"
      ],
      "metadata": {
        "colab": {
          "base_uri": "https://localhost:8080/"
        },
        "id": "H5zIw4BAPsF8",
        "outputId": "7e48c147-5be4-4522-dd8f-0bbf9b9e1d23"
      },
      "execution_count": null,
      "outputs": [
        {
          "output_type": "stream",
          "name": "stdout",
          "text": [
            "Time taken: 3.9577484130859375e-05 seconds\n"
          ]
        }
      ]
    },
    {
      "cell_type": "markdown",
      "source": [
        "Q12. WAP to sort following number of elements in a list, calculate time taken and plot the graph.\n",
        "Number of elements in list\n",
        "Time Taken\n",
        "\n",
        "5k\n",
        "ΤΙ\n",
        "\n",
        "10k\n",
        "T2\n",
        "\n",
        "15k\n",
        "T3\n",
        "\n",
        "20k\n",
        "T4\n",
        "\n",
        "25k\n",
        "T5"
      ],
      "metadata": {
        "id": "pjrgOH9aRKaa"
      }
    },
    {
      "cell_type": "code",
      "source": [
        "import time\n",
        "import matplotlib.pyplot as plt\n",
        "\n",
        "# Function to sort a list and calculate the time taken\n",
        "def sort_list_and_measure_time(n):\n",
        "    # Generate a list of n elements\n",
        "    my_list = list(range(n, 0, -1))\n",
        "\n",
        "    # Record the start time\n",
        "    start_time = time.time()\n",
        "\n",
        "    # Sort the list\n",
        "    my_list.sort()\n",
        "\n",
        "    # Record the end time\n",
        "    end_time = time.time()\n",
        "\n",
        "    # Calculate the elapsed time\n",
        "    elapsed_time = end_time - start_time\n",
        "\n",
        "    return elapsed_time\n",
        "\n",
        "# Lists to store the number of elements and the corresponding time taken\n",
        "num_elements = [5000, 10000, 15000, 20000, 25000]\n",
        "time_taken = []\n",
        "\n",
        "# Measure the time taken for each number of elements and store in time_taken\n",
        "for n in num_elements:\n",
        "    elapsed_time = sort_list_and_measure_time(n)\n",
        "    time_taken.append(elapsed_time)\n",
        "\n",
        "# Plotting the graph\n",
        "plt.plot(num_elements, time_taken, marker='o')\n",
        "plt.xlabel('Number of Elements')\n",
        "plt.ylabel('Time Taken (seconds)')\n",
        "plt.title('Time Taken to Sort Elements')\n",
        "plt.show()"
      ],
      "metadata": {
        "colab": {
          "base_uri": "https://localhost:8080/",
          "height": 472
        },
        "id": "D3Fal4VhQPwj",
        "outputId": "cc7e4ab7-775e-46a9-eb08-03f300fcbd58"
      },
      "execution_count": null,
      "outputs": [
        {
          "output_type": "display_data",
          "data": {
            "text/plain": [
              "<Figure size 640x480 with 1 Axes>"
            ],
            "image/png": "[encoded data removed]"
          },
          "metadata": {}
        }
      ]
    },
    {
      "cell_type": "markdown",
      "source": [
        "Q13. WAP to create a dictionary of student marks in five subjects and you have to find the student\n",
        " having maximum and minimum average marks."
      ],
      "metadata": {
        "id": "83rBvTWpRTHb"
      }
    },
    {
      "cell_type": "code",
      "source": [
        "# Create a dictionary of student marks in five subjects\n",
        "student_marks = {\n",
        "    \"Alice\": [90, 85, 92, 88, 95],\n",
        "    \"Bob\": [78, 80, 85, 82, 79],\n",
        "    \"Charlie\": [95, 88, 92, 85, 90],\n",
        "    \"David\": [82, 90, 88, 86, 80],\n",
        "    \"Eve\": [89, 92, 85, 88, 90]\n",
        "}\n",
        "\n",
        "# Calculate the average marks for each student\n",
        "average_marks = {}\n",
        "for student, marks in student_marks.items():\n",
        "    average_marks[student] = sum(marks) / len(marks)\n",
        "\n",
        "# Find the student with maximum average marks\n",
        "max_student = max(average_marks, key=average_marks.get)\n",
        "max_average = average_marks[max_student]\n",
        "\n",
        "# Find the student with minimum average marks\n",
        "min_student = min(average_marks, key=average_marks.get)\n",
        "min_average = average_marks[min_student]\n",
        "\n",
        "# Print the results\n",
        "print(\"Student with maximum average marks:\")\n",
        "print(\"Name:\", max_student)\n",
        "print(\"Average Marks:\", max_average)\n",
        "\n",
        "print(\"\\nStudent with minimum average marks:\")\n",
        "print(\"Name:\", min_student)\n",
        "print(\"Average Marks:\", min_average)\n"
      ],
      "metadata": {
        "colab": {
          "base_uri": "https://localhost:8080/"
        },
        "id": "Jwj5GKa_RgV7",
        "outputId": "abf4ddca-1297-4170-d3f3-b44b1937bd65"
      },
      "execution_count": null,
      "outputs": [
        {
          "output_type": "stream",
          "name": "stdout",
          "text": [
            "Student with maximum average marks:\n",
            "Name: Alice\n",
            "Average Marks: 90.0\n",
            "\n",
            "Student with minimum average marks:\n",
            "Name: Bob\n",
            "Average Marks: 80.8\n"
          ]
        }
      ]
    }
  ]
}