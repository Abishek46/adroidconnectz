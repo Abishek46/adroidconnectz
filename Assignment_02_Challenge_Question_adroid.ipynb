{
  "nbformat": 4,
  "nbformat_minor": 0,
  "metadata": {
    "colab": {
      "provenance": [],
      "authorship_tag": "ABX9TyO81GYIoNgBxxxpQM3kUQA/",
      "include_colab_link": true
    },
    "kernelspec": {
      "name": "python3",
      "display_name": "Python 3"
    },
    "language_info": {
      "name": "python"
    }
  },
  "cells": [
    {
      "cell_type": "markdown",
      "metadata": {
        "id": "view-in-github",
        "colab_type": "text"
      },
      "source": [
        "<a href=\"https://colab.research.google.com/github/Abishek46/adroidconnectz/blob/main/Assignment_02_Challenge_Question_adroid.ipynb\" target=\"_parent\"><img src=\"https://colab.research.google.com/assets/colab-badge.svg\" alt=\"Open In Colab\"/></a>"
      ]
    },
    {
      "cell_type": "markdown",
      "source": [
        "1. Write a python program to sort the list of heterogeneous data.\n",
        "\n",
        "e.g.\n",
        "\n",
        "L = [\"Ram\", 1, \"Shyam\", 2, \"Aman\", 3]\n",
        "\n",
        "print(L)\n",
        "\n",
        "L.sort()\n",
        "\n",
        "print(L)\n",
        "# Above code gives error. Correct it."
      ],
      "metadata": {
        "id": "pejyc2JNSuj0"
      }
    },
    {
      "cell_type": "markdown",
      "source": [
        "When sorting a list of heterogeneous data types like [\"Ram\", 1, \"Shyam\", 2, \"Aman\", 3], the default behavior of the sort() method will raise an error because it cannot compare different data types for sorting.\n",
        "\n",
        "To sort a list with heterogeneous data, you can use the sorted() function along with a custom key function"
      ],
      "metadata": {
        "id": "xJdRd7yUS8U7"
      }
    },
    {
      "cell_type": "code",
      "source": [
        "L = [\"Ram\", 1, \"Shyam\", 2, \"Aman\", 3]\n",
        "print(\"Original List:\", L)\n",
        "\n",
        "L.sort(key=lambda x: str(x))\n",
        "print(\"Sorted List:\", L)\n"
      ],
      "metadata": {
        "colab": {
          "base_uri": "https://localhost:8080/"
        },
        "id": "W4XwhbibTDpw",
        "outputId": "e16df87f-1047-44c1-a81a-cb10e9826a69"
      },
      "execution_count": null,
      "outputs": [
        {
          "output_type": "stream",
          "name": "stdout",
          "text": [
            "Original List: ['Ram', 1, 'Shyam', 2, 'Aman', 3]\n",
            "Sorted List: [1, 2, 3, 'Aman', 'Ram', 'Shyam']\n"
          ]
        }
      ]
    }
  ]
}